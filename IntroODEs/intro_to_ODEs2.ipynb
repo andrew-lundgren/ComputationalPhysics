{
 "cells": [
  {
   "cell_type": "code",
   "execution_count": null,
   "metadata": {},
   "outputs": [],
   "source": [
    "%matplotlib inline\n",
    "import numpy as np\n",
    "import matplotlib.pyplot as plt\n",
    "from scipy.integrate import odeint\n",
    "\n",
    "# In addition to the imports, we'll also import some constants\n",
    "# And also define our own\n",
    "from scipy.constants import gravitational_constant, au\n",
    "year = 365.25*24*3600\n",
    "mass_sun = 1.989e30\n",
    "mars_distance = 227.9*1.e9\n",
    "# NOTE: All units in SI"
   ]
  },
  {
   "cell_type": "markdown",
   "metadata": {},
   "source": [
    "## Exercise 3 - Gravity!\n",
    "\n",
    "Continuing from the previous notebook, now we're going to try a more difficult problem: gravity! We need to do this in two dimensions, so now we've got more variables. It's still ordinary differential equations though. The only derivative is a time derivative.\n",
    "\n",
    "Now we want to solve a vector equation:\n",
    "\n",
    "$$\\vec{F~} = - \\frac{G~M~m}{r^2} \\hat{r~}$$\n",
    "\n",
    "We'll take this to be the force on $m$, so $F = m a$. In terms of the unnormalized vector $\\vec{r~}$, we have\n",
    "\n",
    "$$\\vec{a~} = - \\frac{G~M}{r^2} \\frac{\\vec{r~}}{r}$$\n",
    "\n",
    "where $r$ is the length of $\\vec{r~}$."
   ]
  },
  {
   "cell_type": "markdown",
   "metadata": {},
   "source": [
    "So how do we put this into the form scipy expects? We define the position of the little object by\n",
    "$$\\vec{r~} = (x, y)$$\n",
    "Then the length is\n",
    "$$r = \\sqrt{x^2 + y^2}$$\n",
    "We have second-order differential equations for both $x$ and $y$. We need four variables $x$, $y$, $v_x$, $v_y$.\n",
    "\n",
    "We also need to rescale our variables. Kilograms, meters, and seconds aren't great for describing orbits. We'll get a lot of huge numbers. Let's define a rescaling:\n",
    "$$t = T~\\tau$$\n",
    "$$r = R~\\rho$$\n",
    "So the differential equation looks something like\n",
    "$$\\frac{d^2 r}{d t^2} = \\frac{R}{T^2} \\frac{d^2 \\rho}{d \\tau^2} = - \\frac{G~M}{(R~\\rho)^2}$$\n",
    "or\n",
    "$$\\frac{d^2 \\rho}{d \\tau^2} = - \\left( \\frac{G~M~T^2}{R^3}\\right) ~ \\frac{1}{\\rho^2}$$\n",
    "All the units have been collected into one single factor. If we choose $R = 1~\\mathrm{AU}$ and $T = 1~\\mathrm{yr}$, this factor becomes a nice number close to $1$."
   ]
  },
  {
   "cell_type": "code",
   "execution_count": null,
   "metadata": {},
   "outputs": [],
   "source": [
    "# Calculate the factor above\n",
    "gee_msol = gravitational_constant*mass_sun\n",
    "scale_factor = (gee_msol/au/au/au) * year * year\n",
    "print(scale_factor)"
   ]
  },
  {
   "cell_type": "markdown",
   "metadata": {},
   "source": [
    "Now we're ready to define the gravitational acceleration and start some calculations."
   ]
  },
  {
   "cell_type": "code",
   "execution_count": null,
   "metadata": {},
   "outputs": [],
   "source": [
    "# Gravitational acceleration in 2D\n",
    "def fgrav(vec, t):\n",
    "    x, y, vx, vy = vec\n",
    "    r =  # FIXME: Calculate the distance from x and y\n",
    "    acc =  # FIXME: Calculate the magnitude of the acceleration\n",
    "    return (vx, vy, -acc*x/r, -acc*y/r) # Turn the calculations above into the acceleration vector"
   ]
  },
  {
   "cell_type": "code",
   "execution_count": null,
   "metadata": {},
   "outputs": [],
   "source": [
    "r_init = (1., 0., 0., 1.) # Starting values at t = 0\n",
    "times = np.linspace(0., 4., 10000)\n",
    "rarr = odeint(fgrav, r_init, times)"
   ]
  },
  {
   "cell_type": "code",
   "execution_count": null,
   "metadata": {
    "scrolled": true
   },
   "outputs": [],
   "source": [
    "plt.figure(figsize=(8,8))\n",
    "plt.scatter(rarr[:,0], rarr[:,1], s=5)\n",
    "plt.scatter(0., 0., c='y', s=50)\n",
    "plt.gca().set_aspect('equal', 'datalim')"
   ]
  },
  {
   "cell_type": "markdown",
   "metadata": {},
   "source": [
    "We just guessed at the initial conditions, and we get a very elliptical orbit. Using the formula for acceleration on a circle\n",
    "\n",
    "$$v^2/r = G~M/r^2$$\n",
    "\n",
    "So the velocity on a circular orbit should be\n",
    "\n",
    "$$v = \\sqrt{G~M/r}$$\n",
    "\n",
    "We can use that to get the initial conditions correct."
   ]
  },
  {
   "cell_type": "markdown",
   "metadata": {},
   "source": [
    "**Exercise 3.1**: Fill in the initial condition below to get a circular orbit at $r = 1$."
   ]
  },
  {
   "cell_type": "code",
   "execution_count": null,
   "metadata": {},
   "outputs": [],
   "source": [
    "fIr_init1 = (1., 0., 0., 1.) # FIXME: Change the last value\n",
    "times = np.linspace(0., 4., 10000)\n",
    "rarr1 = odeint(fgrav, r_init1, times)"
   ]
  },
  {
   "cell_type": "code",
   "execution_count": null,
   "metadata": {
    "scrolled": true
   },
   "outputs": [],
   "source": [
    "plt.figure(figsize=(8,8))\n",
    "plt.scatter(rarr1[:,0], rarr1[:,1], s=5)\n",
    "plt.scatter(0., 0., c='y', s=50)\n",
    "plt.gca().set_aspect('equal', 'datalim')"
   ]
  },
  {
   "cell_type": "markdown",
   "metadata": {},
   "source": [
    "**Exercise 3.2**: How long does a single orbit take? Does this make sense?"
   ]
  },
  {
   "cell_type": "code",
   "execution_count": null,
   "metadata": {},
   "outputs": [],
   "source": []
  },
  {
   "cell_type": "markdown",
   "metadata": {},
   "source": [
    "**Exercise 3.3**: Play with the conditions below, shooting the planet toward the sun but offset a bit in $y$ so it doesn't go straight through the center. What kind of shapes do you get? Note that we use a different `times` array than the others, so orbits that go way off can be stopped early if you want."
   ]
  },
  {
   "cell_type": "code",
   "execution_count": null,
   "metadata": {},
   "outputs": [],
   "source": [
    "r_init2 = (4., 0.5, -10., 0.) # FIXME: Try different values\n",
    "times2 = np.linspace(0., 2, 1000)\n",
    "rarr2 = odeint(fgrav, r_init2, times)"
   ]
  },
  {
   "cell_type": "code",
   "execution_count": null,
   "metadata": {},
   "outputs": [],
   "source": [
    "plt.figure(figsize=(8,8))\n",
    "plt.scatter(rarr2[:,0], rarr2[:,1], s=5)\n",
    "plt.scatter(0., 0., c='y', s=50)\n",
    "plt.gca().set_aspect('equal', 'datalim')"
   ]
  },
  {
   "cell_type": "markdown",
   "metadata": {},
   "source": [
    "**Exercise 3.4**: I've defined the distance from Mars to the Sun in kilometers as `mars_distance`. Define `r_mars` in our units (the ones where the Earth is at $r = 1$, and change the initial conditions below to add Mars to the plot."
   ]
  },
  {
   "cell_type": "code",
   "execution_count": null,
   "metadata": {},
   "outputs": [],
   "source": [
    "r_init3 = (1, 0., 0., 1.) # FIXME: Set correct x and vy for Mars\n",
    "rarr3 = odeint(fgrav, r_init3, times)"
   ]
  },
  {
   "cell_type": "code",
   "execution_count": null,
   "metadata": {},
   "outputs": [],
   "source": [
    "plt.figure(figsize=(8,8))\n",
    "plt.scatter(rarr1[:,0], rarr1[:,1], s=5)\n",
    "plt.scatter(rarr3[:,0], rarr3[:,1], c='r', s=4)\n",
    "plt.scatter(0., 0., c='y', s=50)\n",
    "plt.gca().set_aspect('equal', 'datalim')"
   ]
  },
  {
   "cell_type": "code",
   "execution_count": null,
   "metadata": {},
   "outputs": [],
   "source": []
  }
 ],
 "metadata": {
  "kernelspec": {
   "display_name": "Python 3",
   "language": "python",
   "name": "python3"
  },
  "language_info": {
   "codemirror_mode": {
    "name": "ipython",
    "version": 3
   },
   "file_extension": ".py",
   "mimetype": "text/x-python",
   "name": "python",
   "nbconvert_exporter": "python",
   "pygments_lexer": "ipython3",
   "version": "3.6.4"
  }
 },
 "nbformat": 4,
 "nbformat_minor": 2
}
