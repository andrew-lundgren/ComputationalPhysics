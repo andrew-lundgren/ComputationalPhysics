{
 "cells": [
  {
   "cell_type": "markdown",
   "metadata": {},
   "source": [
    "## The usual imports"
   ]
  },
  {
   "cell_type": "code",
   "execution_count": 1,
   "metadata": {},
   "outputs": [],
   "source": [
    "%matplotlib inline"
   ]
  },
  {
   "cell_type": "code",
   "execution_count": 2,
   "metadata": {},
   "outputs": [],
   "source": [
    "import numpy as np\n",
    "import matplotlib.pyplot as plt"
   ]
  },
  {
   "cell_type": "code",
   "execution_count": 3,
   "metadata": {},
   "outputs": [],
   "source": [
    "# And a new import - scipy's basic ODE integration function\n",
    "from scipy.integrate import odeint"
   ]
  },
  {
   "cell_type": "markdown",
   "metadata": {},
   "source": [
    "## Intro - The Euler Method\n",
    "\n",
    "A first-order ordinary differential equation can be written as \n",
    "$$\\frac{d y}{dt} = g(y, t)$$\n",
    "The time derivative can depend on the value of $y(t)$ as well as on $t$. \n",
    "\n",
    "To solve a differential equation on a computer, we use a discrete approximation to the derivative\n",
    "$$\\frac{d y}{dt} = \\frac{y_{i+1} - y_{i}}{t_{i+1} - t_{i}}$$\n",
    "where we're evaluating $y$ at discrete *time steps* $t_{i}$.\n",
    "\n",
    "We'll work with equal time steps given by $t_{i+1} - t_{i} = \\tau$. The Euler method makes a simple approximation:\n",
    "$$y_{i+1} = y_{i} + g_{i} \\tau + O(\\tau^2)$$\n",
    "The last term just means that we've ignored any terms of order $\\tau^2$ or higher. The bigger $\\tau$ is, the bigger the error will be.\n",
    "\n",
    "We'll see how this works by solving the equation\n",
    "$$\\frac{d y}{dt} = - y ~,$$\n",
    "which has the solution $y(t) = A~e^{-t}$."
   ]
  },
  {
   "cell_type": "code",
   "execution_count": 4,
   "metadata": {},
   "outputs": [],
   "source": [
    "tau = 1.\n",
    "yi = 1.\n",
    "result1 = [(0., yi)]\n",
    "for t in np.arange(tau, 6.+tau, tau):\n",
    "    yi = yi + (-yi) * tau\n",
    "    result1.append((t, yi))\n",
    "result1 = np.array(result1)"
   ]
  },
  {
   "cell_type": "code",
   "execution_count": 5,
   "metadata": {},
   "outputs": [
    {
     "data": {
      "text/plain": [
       "<matplotlib.collections.PathCollection at 0x117675c50>"
      ]
     },
     "execution_count": 5,
     "metadata": {},
     "output_type": "execute_result"
    },
    {
     "data": {
      "image/png": "[encoded data removed]",
      "text/plain": [
       "<matplotlib.figure.Figure at 0x11176ea58>"
      ]
     },
     "metadata": {},
     "output_type": "display_data"
    }
   ],
   "source": [
    "times = np.linspace(0.,6.,1000)\n",
    "plt.plot(times, np.exp(-times))\n",
    "plt.scatter(result1[:,0], result1[:,1], c='g')"
   ]
  },
  {
   "cell_type": "markdown",
   "metadata": {},
   "source": [
    "**Exercise 0.1**: Make the time step above $\\tau = 1.5$. What happens?"
   ]
  },
  {
   "cell_type": "markdown",
   "metadata": {},
   "source": [
    "**Exercise 0.2**: Now make two new sets of results with smaller values of $\\tau$ and add them to the plot. Does the solution get better?"
   ]
  },
  {
   "cell_type": "markdown",
   "metadata": {},
   "source": [
    "## Ex 1 - The Decaying Exponential\n",
    "\n",
    "Now let's start to use scipy's odeint to solve some differential equations with nice sophisticated integrators. We'll continue to solve\n",
    "$$\\frac{d y}{dt} = - y$$\n",
    "We start by defining a function for the right-hand side."
   ]
  },
  {
   "cell_type": "code",
   "execution_count": 6,
   "metadata": {},
   "outputs": [],
   "source": [
    "# Defining the function is simple.\n",
    "def f1(y, t):\n",
    "    return -y"
   ]
  },
  {
   "cell_type": "code",
   "execution_count": 7,
   "metadata": {},
   "outputs": [],
   "source": [
    "# We'll solve from t = 0 to t = 4, at 100 equally-spaced points.\n",
    "times = np.linspace(0.,4.,100)"
   ]
  },
  {
   "cell_type": "code",
   "execution_count": 8,
   "metadata": {},
   "outputs": [],
   "source": [
    "y_init1 = 1. # Starting value for y, at t = 0\n",
    "yarr1 = odeint(f1, y_init1, times)"
   ]
  },
  {
   "cell_type": "code",
   "execution_count": 9,
   "metadata": {},
   "outputs": [
    {
     "data": {
      "text/plain": [
       "<matplotlib.legend.Legend at 0x11777d630>"
      ]
     },
     "execution_count": 9,
     "metadata": {},
     "output_type": "execute_result"
    },
    {
     "data": {
      "image/png": "[encoded data removed]",
      "text/plain": [
       "<matplotlib.figure.Figure at 0x1176aefd0>"
      ]
     },
     "metadata": {},
     "output_type": "display_data"
    }
   ],
   "source": [
    "plt.figure(figsize=(8,6))\n",
    "plt.plot(times, np.exp(-times), c='g', label='True solution')\n",
    "plt.scatter(times, yarr1, s=2, c='k', label='ODE solver')\n",
    "plt.legend()"
   ]
  },
  {
   "cell_type": "markdown",
   "metadata": {},
   "source": [
    "**Exercise 1.1**: Can you make this decay twice as fast?"
   ]
  },
  {
   "cell_type": "code",
   "execution_count": null,
   "metadata": {},
   "outputs": [],
   "source": []
  },
  {
   "cell_type": "markdown",
   "metadata": {},
   "source": [
    "**Exercise 1.2**: Can you change the amplitude, i.e. make the solution $2 e^{-t}$ rather than $e^{-t}$?"
   ]
  },
  {
   "cell_type": "code",
   "execution_count": null,
   "metadata": {},
   "outputs": [],
   "source": []
  },
  {
   "cell_type": "markdown",
   "metadata": {},
   "source": [
    "## Ex 2 - The Sinusoid"
   ]
  },
  {
   "cell_type": "markdown",
   "metadata": {},
   "source": [
    "Now let's try to get a sinusoid. We can't do that with a single derivative -- we need a second-order equation. It looks like\n",
    "$$ \\frac{d^2 y}{d t^2} = - \\omega^2 y$$\n",
    "But odeint doesn't say anything about second derivatives. How are we supposed to solve this?\n",
    "\n",
    "The trick is, we're allowed to have many variables. So let's define a new variable\n",
    "$$v_y = \\frac{d y}{d t}$$\n",
    "\n",
    "If we take another derivative, we get:\n",
    "$$\\frac{d v_y}{d t} = \\frac{d^2 y}{d t}$$\n",
    "\n",
    "Now we can re-write the above equation as two pieces:\n",
    "$$\\begin{align}\n",
    "\\frac{d v_y}{d t} &= -\\omega^2 y \\\\\n",
    "\\frac{d y}{d t} &= v_y\n",
    "\\end{align}$$\n",
    "\n",
    "We've gone from one second-order equation to two first-order equations. Our new variable is the velocity."
   ]
  },
  {
   "cell_type": "code",
   "execution_count": 10,
   "metadata": {},
   "outputs": [],
   "source": [
    "# The function now takes a vector as input.\n",
    "omega = np.pi\n",
    "def f2(vec, t):\n",
    "    y, vy = vec\n",
    "    return (vy, -omega*omega*y)"
   ]
  },
  {
   "cell_type": "code",
   "execution_count": 11,
   "metadata": {},
   "outputs": [],
   "source": [
    "y_init2 = (1., 0.) # Starting value for y, vy at t = 0\n",
    "yarr2 = odeint(f2, y_init2, times)"
   ]
  },
  {
   "cell_type": "code",
   "execution_count": 12,
   "metadata": {},
   "outputs": [
    {
     "data": {
      "text/plain": [
       "(100, 2)"
      ]
     },
     "execution_count": 12,
     "metadata": {},
     "output_type": "execute_result"
    }
   ],
   "source": [
    "yarr2.shape"
   ]
  },
  {
   "cell_type": "markdown",
   "metadata": {},
   "source": [
    "The result now has two variables, each one is its own column. Each time is a row. We can use numpy's multi-dimensional slicing to access just the first variable by doing\n",
    "\n",
    "yarr2\\[:, 0\\]\n",
    "\n",
    "In the first slot, we put the slice operator ':' all by itself. This just means take all the data in that dimension. Then we specify that we want column zero, which is the first variable since Python counts from zero."
   ]
  },
  {
   "cell_type": "code",
   "execution_count": 13,
   "metadata": {},
   "outputs": [
    {
     "data": {
      "text/plain": [
       "[<matplotlib.lines.Line2D at 0x117787ba8>]"
      ]
     },
     "execution_count": 13,
     "metadata": {},
     "output_type": "execute_result"
    },
    {
     "data": {
      "image/png": "[encoded data removed]",
      "text/plain": [
       "<matplotlib.figure.Figure at 0x1176f66a0>"
      ]
     },
     "metadata": {},
     "output_type": "display_data"
    }
   ],
   "source": [
    "plt.figure(figsize=(8,6))\n",
    "plt.plot(times, np.cos(omega*times), 'g')\n",
    "plt.plot(times, yarr2[:,0], 'r:')"
   ]
  },
  {
   "cell_type": "markdown",
   "metadata": {},
   "source": [
    "**Exercise 2.1**: How do you double the amplitude?"
   ]
  },
  {
   "cell_type": "code",
   "execution_count": null,
   "metadata": {},
   "outputs": [],
   "source": []
  },
  {
   "cell_type": "markdown",
   "metadata": {},
   "source": [
    "**Exercise 2.2**: Can you change the result in y from a cosine to a sine? Hint: A sine starts at zero, but it has some initial slope."
   ]
  },
  {
   "cell_type": "code",
   "execution_count": null,
   "metadata": {},
   "outputs": [],
   "source": []
  },
  {
   "cell_type": "markdown",
   "metadata": {},
   "source": [
    "**Exercise 2.3**: Can you change the frequency in the same way? If not, how do you change it?"
   ]
  },
  {
   "cell_type": "code",
   "execution_count": null,
   "metadata": {},
   "outputs": [],
   "source": []
  },
  {
   "cell_type": "markdown",
   "metadata": {},
   "source": [
    "**Exercise 2.4**: Copying the example from above, can you modify the equation to add damping? The result should be a decaying sinusoid."
   ]
  },
  {
   "cell_type": "code",
   "execution_count": null,
   "metadata": {},
   "outputs": [],
   "source": []
  }
 ],
 "metadata": {
  "kernelspec": {
   "display_name": "Python 3",
   "language": "python",
   "name": "python3"
  },
  "language_info": {
   "codemirror_mode": {
    "name": "ipython",
    "version": 3
   },
   "file_extension": ".py",
   "mimetype": "text/x-python",
   "name": "python",
   "nbconvert_exporter": "python",
   "pygments_lexer": "ipython3",
   "version": "3.6.4"
  }
 },
 "nbformat": 4,
 "nbformat_minor": 2
}
