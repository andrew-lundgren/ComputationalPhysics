{
 "cells": [
  {
   "cell_type": "code",
   "execution_count": 31,
   "metadata": {},
   "outputs": [],
   "source": [
    "%matplotlib inline\n",
    "import numpy as np\n",
    "import matplotlib.pyplot as plt\n",
    "from scipy.integrate import odeint\n",
    "from scipy.constants import gravitational_constant, au\n",
    "mass_sun = 1.989e30\n",
    "year = 365.25*24*3600\n",
    "mars_distance = 227.9*1.e9\n",
    "jupiter_distance = 778.57*1.e9\n",
    "# All units in SI"
   ]
  },
  {
   "cell_type": "code",
   "execution_count": 32,
   "metadata": {},
   "outputs": [],
   "source": [
    "gee_msol = gravitational_constant*mass_sun\n",
    "scale_factor = (gee_msol/au/au/au) * year * year\n",
    "r_mars = mars_distance/au\n",
    "r_jup = jupiter_distance/au"
   ]
  },
  {
   "cell_type": "code",
   "execution_count": 22,
   "metadata": {},
   "outputs": [],
   "source": [
    "def fgrav(vec, t):\n",
    "    x, y, vx, vy = vec\n",
    "    r = np.sqrt(x*x + y*y)\n",
    "    acc = scale_factor/r/r\n",
    "    return (vx, vy, -acc*x/r, -acc*y/r)"
   ]
  },
  {
   "cell_type": "markdown",
   "metadata": {},
   "source": [
    "## Orbital Mechanics\n",
    "\n",
    "This notebook is about having some fun with orbital mechanics. We'll calculate the orbits of Earth and Mars, then try launching some spacecraft from near Earth and see what happens."
   ]
  },
  {
   "cell_type": "code",
   "execution_count": 33,
   "metadata": {},
   "outputs": [],
   "source": [
    "times = np.linspace(0., 4., 1000) # 4 years; adjust as desired, also change number of points if you want"
   ]
  },
  {
   "cell_type": "code",
   "execution_count": 37,
   "metadata": {},
   "outputs": [],
   "source": [
    "vec_init1 = (1., 0., 0., np.sqrt(scale_factor)) # Starting values at t = 0\n",
    "vec_earth = odeint(fgrav, vec_init1, times)"
   ]
  },
  {
   "cell_type": "code",
   "execution_count": 38,
   "metadata": {},
   "outputs": [],
   "source": [
    "vec_init2 = (r_mars, 0., 0., np.sqrt(scale_factor/r_mars)) # Starting values at t = 0\n",
    "vec_mars = odeint(fgrav, vec_init2, times)"
   ]
  },
  {
   "cell_type": "code",
   "execution_count": 39,
   "metadata": {},
   "outputs": [
    {
     "data": {
      "image/png": "[encoded data removed]",
      "text/plain": [
       "<matplotlib.figure.Figure at 0x10d7c7510>"
      ]
     },
     "metadata": {},
     "output_type": "display_data"
    }
   ],
   "source": [
    "plt.figure(figsize=(8,8))\n",
    "plt.scatter(vec_earth[:,0], vec_earth[:,1], s=5)\n",
    "plt.scatter(vec_mars[:,0], vec_mars[:,1], c='r', s=4)\n",
    "plt.scatter(0., 0., c='y', s=50)\n",
    "plt.gca().set_aspect('equal', 'datalim')"
   ]
  },
  {
   "cell_type": "markdown",
   "metadata": {},
   "source": [
    "## Hohmann Transfer Orbit\n",
    "\n",
    "A Hohmann transfer orbit is the minimum-energy way to go from one circular orbit to another in the same plane. It's an elliptical orbit that just barely touches both circular orbits. You can read about it on [Wikipedia](https://en.wikipedia.org/wiki/Hohmann_transfer_orbit).\n",
    "\n",
    "For the initial conditions, we can start it at the same position as Earth at $t = 0$, i.e. $(x, y) = (1, 0)$. But we need to choose the correct velocity to reach Mars's orbit. We could write down the energy equation and solve it, or we could let the computer solve it."
   ]
  },
  {
   "cell_type": "code",
   "execution_count": null,
   "metadata": {},
   "outputs": [],
   "source": [
    "vec_init3 = (r_mars, 0., 0., np.sqrt(scale_factor/r_mars)) # Starting values at t = 0\n",
    "vec_craft = odeint(fgrav, vec_init3, times)"
   ]
  },
  {
   "cell_type": "markdown",
   "metadata": {},
   "source": [
    "**Step 1**: Write a function that takes the output of `odeint` and gives an array of the distance from the Sun."
   ]
  },
  {
   "cell_type": "code",
   "execution_count": null,
   "metadata": {},
   "outputs": [],
   "source": []
  },
  {
   "cell_type": "markdown",
   "metadata": {},
   "source": [
    "**Step 2**: Now write a function that finds the maximum radius of the craft."
   ]
  },
  {
   "cell_type": "code",
   "execution_count": null,
   "metadata": {},
   "outputs": [],
   "source": []
  },
  {
   "cell_type": "markdown",
   "metadata": {},
   "source": [
    "**Step 3**: Now put it together. Write a function that takes an initial velocity, solves the ODE, then finds the maximum radius that the orbit of the craft reaches. Test the function and make sure it gives sensible results (e.g. what happens when it has the same velocity as the Earth?)."
   ]
  },
  {
   "cell_type": "code",
   "execution_count": null,
   "metadata": {},
   "outputs": [],
   "source": []
  },
  {
   "cell_type": "markdown",
   "metadata": {},
   "source": [
    "**Step 4**: Using `fsolve`, you can find the root of a function. You need to give it a function that returns zero when it's at the right answer, so it's good to have it return the square of the max distance minus the distance that you want it to reach (`r_mars`)."
   ]
  },
  {
   "cell_type": "code",
   "execution_count": 42,
   "metadata": {},
   "outputs": [],
   "source": [
    "from scipy.optimize import fsolve\n",
    "fsolve?"
   ]
  },
  {
   "cell_type": "code",
   "execution_count": 41,
   "metadata": {},
   "outputs": [
    {
     "data": {
      "text/plain": [
       "array([ 2.])"
      ]
     },
     "execution_count": 41,
     "metadata": {},
     "output_type": "execute_result"
    }
   ],
   "source": [
    "def test(x):\n",
    "    return (x - 2.)**2\n",
    "\n",
    "fsolve(test, 1.)"
   ]
  },
  {
   "cell_type": "code",
   "execution_count": null,
   "metadata": {},
   "outputs": [],
   "source": []
  },
  {
   "cell_type": "markdown",
   "metadata": {},
   "source": [
    "**Challenge**: How long does the spacecraft take to get to Mars? At what angle around the Sun does it finish, relative to where it began?"
   ]
  },
  {
   "cell_type": "code",
   "execution_count": null,
   "metadata": {},
   "outputs": [],
   "source": []
  },
  {
   "cell_type": "markdown",
   "metadata": {},
   "source": [
    "**Even more challenging**: How far apart in times are the launch windows? At what time in our simulation should the spacecraft be launched?"
   ]
  },
  {
   "cell_type": "code",
   "execution_count": null,
   "metadata": {},
   "outputs": [],
   "source": []
  },
  {
   "cell_type": "markdown",
   "metadata": {},
   "source": [
    "## Other fun things to try\n",
    "\n",
    "Once you've finished above, go ahead and try whichever of these appeal to you.\n",
    "\n",
    " * What if gravity were an inverse cube rather than an inverse square law? What do the orbits look like, are they stable? This is what would happen if there were three space dimensions.\n",
    " * Simulate a solar sail mission, see the hints below.\n",
    " * Add in Jupiter, travel there.\n",
    " * Add in the force from a rocket. See the hints below."
   ]
  },
  {
   "cell_type": "markdown",
   "metadata": {},
   "source": [
    "## Inverse Cube Law\n",
    "\n",
    "Just replace $\\frac{1}{r^2}$ with $\\frac{1}{r^3}$. You can also add in a little bit of a $\\frac{1}{r^3}$ term to the one currently there. This actually happens due to the oblateness of the Sun and also General Relativity, and we measure these effects on Mercury. You need an elliptical orbit to see them though."
   ]
  },
  {
   "cell_type": "markdown",
   "metadata": {},
   "source": [
    "## Solar sail\n",
    "\n",
    "The intensity of sunlight at Earth's orbit is 1400 Watts per square meter. That falls off like $1/r^2$. The pressure of light is intensity divided by the speed of light.\n",
    "\n",
    "To get the acceleration provided by a solar sail, multiply the pressure of the sunlight by the area of your solar sail, and divide by the mass of your craft. It's not like gravity, the mass of your craft doesn't divide out. You might have a tiny probe of a few kilograms, or maybe a metric ton like a more typical craft.\n",
    "\n",
    "The force of the sunlight points directly out from the Sun, so in the opposite direction from gravity."
   ]
  },
  {
   "cell_type": "code",
   "execution_count": 43,
   "metadata": {},
   "outputs": [],
   "source": [
    "from scipy.constants import speed_of_light"
   ]
  },
  {
   "cell_type": "code",
   "execution_count": null,
   "metadata": {},
   "outputs": [],
   "source": []
  },
  {
   "cell_type": "markdown",
   "metadata": {},
   "source": [
    "## Rocket\n",
    "\n",
    "To make the rocket interesting, let's always point it at a 90 degree angle from the sun. We need a unit vector that's perpendicular to $\\hat{r~}$. We can use the cross product with $z$.\n",
    "\n",
    "$$\\hat{\\theta~} = \\left( \\frac{x}{r}, \\frac{y}{r}, 0 \\right) \\times \\left( 0, 0, 1 \\right)$$\n",
    "\n",
    "You can make it a constant force or whatever you want. A real rocket would lose mass as it expends its fuel, if you want to simulate that."
   ]
  },
  {
   "cell_type": "code",
   "execution_count": null,
   "metadata": {},
   "outputs": [],
   "source": []
  }
 ],
 "metadata": {
  "kernelspec": {
   "display_name": "Python 3",
   "language": "python",
   "name": "python3"
  },
  "language_info": {
   "codemirror_mode": {
    "name": "ipython",
    "version": 3
   },
   "file_extension": ".py",
   "mimetype": "text/x-python",
   "name": "python",
   "nbconvert_exporter": "python",
   "pygments_lexer": "ipython3",
   "version": "3.6.4"
  }
 },
 "nbformat": 4,
 "nbformat_minor": 2
}
